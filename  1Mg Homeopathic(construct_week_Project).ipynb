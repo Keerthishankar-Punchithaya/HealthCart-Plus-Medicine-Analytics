{
 "cells": [
  {
   "cell_type": "markdown",
   "id": "244d6103",
   "metadata": {},
   "source": [
    "# Fetch the data into a webside(1Mg Homeopathic) by Selenium and BeautifulSoup"
   ]
  },
  {
   "cell_type": "markdown",
   "id": "4d7bd740",
   "metadata": {},
   "source": [
    "## Table1: medicine_name"
   ]
  },
  {
   "cell_type": "code",
   "execution_count": 13,
   "id": "1bf6eda1",
   "metadata": {},
   "outputs": [
    {
     "name": "stdout",
     "output_type": "stream",
     "text": [
      "How many medicines' details do you want (max 10000)? 400\n",
      "Data has been read from 'all_medicines_data.csv' and written to 'new_medicines_data_400.csv'.\n"
     ]
    }
   ],
   "source": [
    "import csv\n",
    "import time\n",
    "import re\n",
    "from bs4 import BeautifulSoup\n",
    "from selenium import webdriver\n",
    "from selenium.webdriver.common.by import By\n",
    "\n",
    "\n",
    "\n",
    "# Set up the WebDriver\n",
    "driver = webdriver.Chrome()\n",
    "\n",
    "\n",
    "# Set the URL of the first page\n",
    "homeopathy_url = 'https://www.1mg.com/categories/homeopathy-57?filter=true&pageNumber=1'\n",
    "driver.get(url=homeopathy_url)\n",
    "\n",
    "\n",
    "# Making soup\n",
    "soup = BeautifulSoup(driver.page_source, \"html.parser\")\n",
    "\n",
    "total_number_of_pages = 250\n",
    "medicines_per_page = 40\n",
    "\n",
    "\n",
    "# Remove dropdown\n",
    "close_popup_button = driver.find_element(By.CLASS_NAME, 'UpdateCityModal__cancel-btn___2jWwS')\n",
    "close_popup_button.click()\n",
    "time.sleep(2)\n",
    "\n",
    "\n",
    "# Create a list to store all the data\n",
    "all_medicines_data = []\n",
    "\n",
    "\n",
    "\n",
    "# Iterate through the pages\n",
    "for page_number in range(1, total_number_of_pages + 1):\n",
    "    homeopathy_url = f'https://www.1mg.com/categories/homeopathy-57?filter=true&pageNumber={page_number}'\n",
    "    driver.get(url=homeopathy_url)\n",
    "\n",
    "    \n",
    "    # Wait for some time to ensure the page is fully loaded\n",
    "    time.sleep(2)\n",
    "\n",
    "    \n",
    "    # Making soup\n",
    "    soup = BeautifulSoup(driver.page_source, \"html.parser\")\n",
    "\n",
    "    \n",
    "    blocks = soup.find_all(\"div\", {\"class\": \"style__product-box___liepi\"})\n",
    "    \n",
    "    for i in blocks:\n",
    "        \n",
    "        name_of_medicine = i.find('div', {'class': 'style__pro-title___2QwJy'}).text\n",
    "\n",
    "        \n",
    "        size_text = i.find('div', {'class': 'style__pack-size___2JQG7'}).text\n",
    "        # Define a regular expression to extract the volume information\n",
    "        volume_pattern = re.compile(r'\\b(\\d+\\s*(?:ml|gm|tablets))\\b', re.IGNORECASE)\n",
    "        # Find all matches in the text\n",
    "        matches = volume_pattern.findall(size_text)\n",
    "        # Print the volumes\n",
    "        for size in matches:\n",
    "            size\n",
    "\n",
    "            \n",
    "        MRP_element = i.find(\"span\", {\"class\": \"style__discount-price___25Bya\"})\n",
    "        MRP = MRP_element.text.strip() if MRP_element else ''\n",
    "\n",
    "        \n",
    "        sale_price_element = i.find(\"div\", {\"class\": \"style__price-tag___cOxYc\"})\n",
    "        sale_price = sale_price_element.text.strip() if sale_price_element else ''\n",
    "\n",
    "        \n",
    "        url_element = i.find('a', {'class': 'style__product-link___UB_67'})\n",
    "        url = f'https://www.1mg.com{url_element.get(\"href\")}'\n",
    "\n",
    "        \n",
    "        # Store data in the list\n",
    "        all_medicines_data.append([name_of_medicine, size, MRP, sale_price, url])\n",
    "\n",
    "        \n",
    "        \n",
    "# Create a CSV file and store all the data\n",
    "csv_file_path = 'all_medicines_data.csv'\n",
    "\n",
    "with open(csv_file_path, 'w', newline='', encoding='utf-8') as csvfile:\n",
    "    \n",
    "    # Create a CSV writer\n",
    "    csv_writer = csv.writer(csvfile)\n",
    "\n",
    "    # Write header row\n",
    "    csv_writer.writerow(['Name', 'Size_of_the_bottle', 'MRP_of_the_bottle', 'Price_of_the_bottle', '1Mg_URL'])\n",
    "\n",
    "    # Write all the data to the CSV file\n",
    "    csv_writer.writerows(all_medicines_data)\n",
    "\n",
    "\n",
    "    \n",
    "    \n",
    "\n"
   ]
  },
  {
   "cell_type": "code",
   "execution_count": null,
   "id": "2f8f7e0c",
   "metadata": {},
   "outputs": [],
   "source": [
    "# Get user input for the desired number of medicines\n",
    "desired_medicines = int(input(f\"How many medicines' details do you want (max {total_number_of_pages * medicines_per_page})? \"))\n",
    "\n",
    "\n",
    "\n",
    "\n",
    "# Create a new CSV file with the desired amount of data\n",
    "\n",
    "new_csv_file_path = f'new_medicines_data_{desired_medicines}.csv'\n",
    "\n",
    "with open(csv_file_path, 'r', encoding='utf-8') as input_csvfile, \\\n",
    "        open(new_csv_file_path, 'w', newline='', encoding='utf-8') as output_csvfile:\n",
    "  \n",
    "\n",
    "    # Create CSV reader and writer\n",
    "    csv_reader = csv.reader(input_csvfile)\n",
    "    csv_writer = csv.writer(output_csvfile)\n",
    "\n",
    "    # Write header row\n",
    "    csv_writer.writerow(next(csv_reader))\n",
    "\n",
    "    # Write the desired amount of data to the new CSV file\n",
    "    for _ in range(desired_medicines):\n",
    "        csv_writer.writerow(next(csv_reader))\n",
    "\n",
    "# Close the WebDriver\n",
    "driver.quit()\n",
    "\n",
    "# Print a message indicating the process is complete\n",
    "print(f\"Data has been read from '{csv_file_path}' and written to '{new_csv_file_path}'.\")\n",
    "    "
   ]
  },
  {
   "cell_type": "code",
   "execution_count": null,
   "id": "aa4bf964",
   "metadata": {},
   "outputs": [],
   "source": []
  },
  {
   "cell_type": "code",
   "execution_count": null,
   "id": "b956cc63",
   "metadata": {},
   "outputs": [],
   "source": []
  },
  {
   "cell_type": "code",
   "execution_count": null,
   "id": "4a9f3ac8",
   "metadata": {},
   "outputs": [],
   "source": []
  },
  {
   "cell_type": "code",
   "execution_count": null,
   "id": "17ef7976",
   "metadata": {},
   "outputs": [],
   "source": []
  },
  {
   "cell_type": "code",
   "execution_count": null,
   "id": "ddec7fd3",
   "metadata": {},
   "outputs": [],
   "source": []
  },
  {
   "cell_type": "markdown",
   "id": "ee022eb3",
   "metadata": {},
   "source": [
    "\n",
    "\n"
   ]
  },
  {
   "cell_type": "code",
   "execution_count": null,
   "id": "c9e0dd12",
   "metadata": {},
   "outputs": [],
   "source": []
  }
 ],
 "metadata": {
  "kernelspec": {
   "display_name": "Python 3 (ipykernel)",
   "language": "python",
   "name": "python3"
  },
  "language_info": {
   "codemirror_mode": {
    "name": "ipython",
    "version": 3
   },
   "file_extension": ".py",
   "mimetype": "text/x-python",
   "name": "python",
   "nbconvert_exporter": "python",
   "pygments_lexer": "ipython3",
   "version": "3.10.9"
  }
 },
 "nbformat": 4,
 "nbformat_minor": 5
}
